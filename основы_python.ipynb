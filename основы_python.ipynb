{
 "cells": [
  {
   "cell_type": "markdown",
   "metadata": {
    "id": "M-DGa20PaHnu"
   },
   "source": [
    "#Задача 1\n",
    "Написать функцию на вход которой подается строка, состоящая из латинских букв.\n",
    "Функция должна вернуть количество гласных букв (a, e, i, o, u) в этой строке. Написать тесты для кода"
   ]
  },
  {
   "cell_type": "code",
   "execution_count": 23,
   "metadata": {
    "id": "XvX8X_JJ6PCb"
   },
   "outputs": [],
   "source": [
    "def returner(strin):\n",
    "    count = 0\n",
    "    letters = 'aeiou'\n",
    "    for x in strin:\n",
    "        if x.lower() in letters:\n",
    "            count+=1\n",
    "    return count\n",
    "def test_first():\n",
    "\tassert returner(\"ae8ui98789oAE\")==7\n",
    "\tassert returner(\"12345\")==0\n",
    "\tassert returner(\"\")==0\n",
    "\tassert returner(\"aedsAE\")==4\n",
    "if __name__==\"__main__\":\n",
    "\ttest_first()"
   ]
  },
  {
   "cell_type": "markdown",
   "metadata": {
    "id": "t2ClV_Y0bbr6"
   },
   "source": [
    "# Задача 2\n",
    "Написать функцию на вход, которой подается строка. Функция должна вернуть true, если\n",
    "каждый символ в строке встречается только 1 раз, иначе должна вернуть false. Написать тесты для кода"
   ]
  },
  {
   "cell_type": "code",
   "execution_count": 14,
   "metadata": {
    "id": "FppbECao6VIz"
   },
   "outputs": [],
   "source": [
    "def get_original_str(text):\n",
    "    letters = []\n",
    "    for i in range(len(text)):\n",
    "        if text[i].lower() in letters:\n",
    "            return False\n",
    "        else:\n",
    "            letters.append(text[i])\n",
    "    return True\n",
    "def test_1():\n",
    "    assert get_original_str(\"abcde\")==True\n",
    "    assert get_original_str(\"123451\")==False\n",
    "    assert  get_original_str(\"aAbBcC*6!\")==False\n",
    "    assert get_original_str(\"\")==True\n",
    "    assert get_original_str(\"abcdаe123З\")==True\n",
    "if __name__ == '__main__':\n",
    "    test_1()"
   ]
  },
  {
   "cell_type": "markdown",
   "metadata": {
    "id": "udRiIK1cdt6E"
   },
   "source": [
    "# Задача 3\n",
    "Написать функцию, которая принимает положительное число и возвращает количество\n",
    "бит равных 1 в этом числе. Написать тесты для кода"
   ]
  },
  {
   "cell_type": "code",
   "execution_count": 24,
   "metadata": {
    "id": "6tkfDJRz6dp_"
   },
   "outputs": [],
   "source": [
    "def one_in(count):\n",
    "    j=0\n",
    "    x = str(bin(count))\n",
    "    for i in range(len(x)):\n",
    "        if x[i]==\"1\":\n",
    "            j+=1\n",
    "    return j\n",
    "def test_1():\n",
    "    assert  one_in(15)==4\n",
    "    assert  one_in(16)==1\n",
    "    assert one_in(127)==7\n",
    "    assert  one_in(0)==0\n",
    "if __name__ == '__main__':\n",
    "    test_1()"
   ]
  },
  {
   "cell_type": "markdown",
   "metadata": {
    "id": "26dDUz-Ae17N"
   },
   "source": [
    "# Задача 4\n",
    "Написать функцию, которая принимает положительное число. Функция должна вернуть то,\n",
    "сколько раз необходимо перемножать цифры числа или результат перемножения, чтобы\n",
    "получилось число состоящее из одной цифры.\n",
    "Например, для входного числа:\n",
    "· 39 функция должна вернуть 3, так как 3*9=27 => 2*7=14 => 1*4=4\n",
    "· 4 функция должна вернуть 0, так как число уже состоит из одной цифры\n",
    "· 999 функция должна вернуть 4, так как 9*9*9=729 => 7*2*9=126 => 1*2*6=12 =>\n",
    "1*2=2. Написать тесты для кода"
   ]
  },
  {
   "cell_type": "code",
   "execution_count": 25,
   "metadata": {
    "id": "BH1A_Mgi6i4G"
   },
   "outputs": [],
   "source": [
    "def magic(n):\n",
    "    j = 0\n",
    "    while len(str(n)) > 1:\n",
    "        stringN = str(n)\n",
    "        x = 1\n",
    "        for i in range(len(stringN)):\n",
    "            x *= int(stringN[i])\n",
    "        j += 1\n",
    "        n = str(x)\n",
    "    return j\n",
    "def  test_1():\n",
    "    assert magic(39)==3\n",
    "    assert  magic(14)==1\n",
    "    assert  magic(999)==4\n",
    "    assert  magic(0)==0\n",
    "if __name__ == '__main__':\n",
    "    test_1()"
   ]
  },
  {
   "cell_type": "markdown",
   "metadata": {
    "id": "0nS-kIa8g8vd"
   },
   "source": [
    "# Задача 5\n",
    "Написать функцию, которая принимает два целочисленных вектора одинаковой длины и\n",
    "возвращает среднеквадратическое отклонение двух векторов. Написать тесты для кода"
   ]
  },
  {
   "cell_type": "code",
   "execution_count": 29,
   "metadata": {
    "id": "8iphx4LM6xbx"
   },
   "outputs": [],
   "source": [
    "import math\n",
    "def mse(pred, true):\n",
    "    if len(pred)!=len(true):\n",
    "        return \"Vectors must be of the same length\"\n",
    "    squares_summ = 0\n",
    "    for i in range(len(pred)):\n",
    "        squares_summ+= (pred[i]-true[i])**2\n",
    "    return squares_summ/len(pred)\n",
    "def test_1():\n",
    "    assert mse([3,2,3],[3,2,1])==1.3333333333333333\n",
    "    assert  mse([0,0,0,0,0],[1,1,1,1])==\"Vectors must be of the same length\"\n",
    "    assert  mse([1,2,7,25],[634,4,23,6])==100327.5\n",
    "    assert  mse([1,1,1,1,1],[2,2,2,2,2])==1\n",
    "    assert  mse([1,1,1],[1,1,1])==0\n",
    "if __name__ == '__main__':\n",
    "    test_1()"
   ]
  },
  {
   "cell_type": "markdown",
   "metadata": {
    "id": "vpIPKL439zkw"
   },
   "source": [
    "# Задача 6\n",
    "Написать функцию, принимающая целое положительное число. Функция должна вернуть\n",
    "строку вида “(n1**p1)(n2**p2)…(nk**pk)” представляющая разложение числа на простые\n",
    "множители (если pi == 1, то выводить только ni).\n",
    "Например, для числа 86240 функция должна вернуть “(2**5)(5)(7**2)(11)”. Написать тесты для кода"
   ]
  },
  {
   "cell_type": "code",
   "execution_count": 31,
   "metadata": {
    "id": "pFebmcZk94Jw"
   },
   "outputs": [],
   "source": [
    "def sequence_of_common(num):\n",
    "    list_simple = []\n",
    "    simple = 2\n",
    "    while num > 1:\n",
    "        if num % simple == 0:\n",
    "            list_simple.append(simple)\n",
    "            num = num/simple\n",
    "        else:\n",
    "            simple += 1\n",
    "    dict_of={}\n",
    "    index = 0\n",
    "    for i in range(len(list_simple)):\n",
    "        if list_simple[i] in dict_of.keys():\n",
    "            dict_of[list_simple[i]]+=1\n",
    "        else:\n",
    "            dict_of[list_simple[i]]=1\n",
    "    strr = \"\"\n",
    "    for i in dict_of.keys():\n",
    "        if dict_of[i]==1:\n",
    "            strr+=f'({i})'\n",
    "        else:\n",
    "            strr+=f'({i}**{dict_of[i]})'\n",
    "    return strr\n",
    "def test_1():\n",
    "    assert sequence_of_common(31)==\"(31)\"\n",
    "    assert sequence_of_common(86240)==\"(2**5)(5)(7**2)(11)\"\n",
    "    assert  sequence_of_common(9)==\"(3**2)\"\n",
    "    assert sequence_of_common(32)==\"(2**5)\"\n",
    "if __name__ == '__main__':\n",
    "    test_1()"
   ]
  },
  {
   "cell_type": "markdown",
   "metadata": {
    "id": "ps2s0BudX7A2"
   },
   "source": [
    "# Задача 7\n",
    "Написать функцию, принимающая целое число n, задающее количество кубиков. Функция\n",
    "должна определить, можно ли из данного кол-ва кубиков построить пирамиду, то есть\n",
    "можно ли представить число n как 1^2+2^2+3^2+…+k^2. Если можно, то функция должна\n",
    "вернуть k, иначе строку “It is impossible”. Написать тесты для кода"
   ]
  },
  {
   "cell_type": "code",
   "execution_count": 33,
   "metadata": {
    "id": "3YPjEXxhX_YT"
   },
   "outputs": [],
   "source": [
    "def pyramid(a):\n",
    "    if a==0:\n",
    "        return \"It is impossible\"\n",
    "    i = 0\n",
    "    while a > 0:\n",
    "        a = a - (i+1)*(i+1)\n",
    "        i+=1\n",
    "    if a == 0:\n",
    "        return i\n",
    "    if a < 0:\n",
    "        return \"It is impossible\"\n",
    "def test_1():\n",
    "    assert pyramid(13)==\"It is impossible\"\n",
    "    assert pyramid(5)==2\n",
    "    assert pyramid(14)==3\n",
    "    assert pyramid(0)== \"It is impossible\"\n",
    "    assert pyramid(1)==1\n",
    "    assert pyramid(-1)==\"It is impossible\"\n",
    "if __name__ == '__main__':\n",
    "    test_1()"
   ]
  },
  {
   "cell_type": "markdown",
   "metadata": {
    "id": "KeKgmIdAQMEJ"
   },
   "source": [
    "# Задача 8\n",
    "Функция принимает на вход положительное число и определяет является ли оно сбалансированным, т.е. сумма цифр до средних равна сумме цифр после. Средними в случае нечетного числа цифр считать одну цифру, в случае четного - две средних. Написать тесты для кода"
   ]
  },
  {
   "cell_type": "code",
   "execution_count": 35,
   "metadata": {
    "id": "gMAAqtqlQrZt"
   },
   "outputs": [],
   "source": [
    "def semi(inte):\n",
    "    begin = end = 0\n",
    "    leng = len(str(inte))\n",
    "    stri = str(inte)\n",
    "    for i in range(leng-1):\n",
    "        begin+=int(stri[i])\n",
    "        end += int(stri[leng-i-1])\n",
    "    if end == begin:\n",
    "        return True\n",
    "    else:\n",
    "        return False\n",
    "def test_1():\n",
    "    assert semi(1441)==True\n",
    "    assert semi(0)==True\n",
    "    assert  semi(1442)==False\n",
    "    assert  semi(1)==True\n",
    "    assert  semi(123454321)==True\n",
    "if __name__ == '__main__':\n",
    "    test_1()"
   ]
  }
 ],
 "metadata": {
  "colab": {
   "provenance": []
  },
  "kernelspec": {
   "display_name": "Python 3 (ipykernel)",
   "language": "python",
   "name": "python3"
  },
  "language_info": {
   "codemirror_mode": {
    "name": "ipython",
    "version": 3
   },
   "file_extension": ".py",
   "mimetype": "text/x-python",
   "name": "python",
   "nbconvert_exporter": "python",
   "pygments_lexer": "ipython3",
   "version": "3.12.0"
  }
 },
 "nbformat": 4,
 "nbformat_minor": 4
}
